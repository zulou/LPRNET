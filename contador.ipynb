{
 "cells": [
  {
   "cell_type": "code",
   "execution_count": 10,
   "id": "3c2649b4-b794-4ae8-bcc0-89367ede5d80",
   "metadata": {},
   "outputs": [
    {
     "name": "stdout",
     "output_type": "stream",
     "text": [
      "   Letra  Frecuencia\n",
      "0      G         368\n",
      "1      P         246\n",
      "2      W         253\n",
      "3      3         408\n",
      "4      0         255\n",
      "5      J         426\n",
      "6      B         285\n",
      "7      F         381\n",
      "8      6         325\n",
      "9      7         393\n",
      "10     H         530\n",
      "11     L         409\n",
      "12     R         184\n",
      "13     4         332\n",
      "14     Z         344\n",
      "15     Y         202\n",
      "16     X         308\n",
      "17     S         202\n",
      "18     9         370\n",
      "19     K         275\n",
      "20     8         441\n",
      "21     5         461\n",
      "22     C         393\n",
      "23     T         207\n",
      "24     1         422\n",
      "25     N          72\n",
      "26     2         416\n",
      "27     M          33\n",
      "28     V         321\n",
      "29     D         477\n",
      "30     E         130\n",
      "31     A         100\n",
      "32     O           2\n",
      "33     I          24\n",
      "34     U          19\n"
     ]
    },
    {
     "data": {
      "text/html": [
       "<iframe\n",
       "    scrolling=\"no\"\n",
       "    width=\"100%\"\n",
       "    height=\"545px\"\n",
       "    src=\"iframe_figures/figure_10.html\"\n",
       "    frameborder=\"0\"\n",
       "    allowfullscreen\n",
       "></iframe>\n"
      ]
     },
     "metadata": {},
     "output_type": "display_data"
    },
    {
     "name": "stdout",
     "output_type": "stream",
     "text": [
      "No estan presentes:\n",
      "{'Q'}\n"
     ]
    }
   ],
   "source": [
    "import os\n",
    "import pandas as pd\n",
    "import plotly.express as px\n",
    "from collections import Counter\n",
    "import plotly.io as pio\n",
    "pio.renderers.default = 'iframe'\n",
    "\n",
    "# Supongamos que tienes una lista con los nombres de las imágenes\n",
    "# Aquí un ejemplo de cómo podrías obtener los nombres de las imágenes en un directorio\n",
    "directorio = 'train_peru_chile/'\n",
    "nombres_imagenes = [f for f in os.listdir(directorio) if f.endswith('.jpg')]\n",
    "\n",
    "# Extraer las etiquetas (parte antes del guion bajo)\n",
    "etiquetas = [nombre.split('_')[0] for nombre in nombres_imagenes]\n",
    "#print(etiquetas)\n",
    "# Combinar todas las etiquetas en una sola cadena\n",
    "todas_las_etiquetas = ''.join(etiquetas)\n",
    "\n",
    "# Contar la frecuencia de cada letra en el alfabeto español\n",
    "alfabeto_espanol = 'ABCDEFGHIJKLMNOPQRSTUVWXYZ0123456789'\n",
    "frecuencia_letras = Counter(letra for letra in todas_las_etiquetas.upper() if letra in alfabeto_espanol)\n",
    "\n",
    "# Convertir el resultado a un DataFrame para facilitar el uso con Plotly\n",
    "df_frecuencia = pd.DataFrame(frecuencia_letras.items(), columns=['Letra', 'Frecuencia'])\n",
    "print(df_frecuencia)\n",
    "\n",
    "\n",
    "# Identificar las letras que no se están utilizando\n",
    "letras_no_utilizadas = set(alfabeto_espanol) - set(frecuencia_letras.keys())\n",
    "\n",
    "# Convertir el resultado a un DataFrame para facilitar el uso con Plotly\n",
    "df_frecuencia = pd.DataFrame(frecuencia_letras.items(), columns=['Letra', 'Frecuencia'])\n",
    "\n",
    "# Ordenar el DataFrame por la columna 'Letra'\n",
    "df_frecuencia = df_frecuencia.sort_values(by='Letra')\n",
    "\n",
    "# Crear el gráfico de barras con Plotly Express\n",
    "fig = px.bar(df_frecuencia, x='Letra', y='Frecuencia', title='Frecuencia de letras en las etiquetas')\n",
    "\n",
    "# Mostrar el gráfico\n",
    "fig.show()\n",
    "\n",
    "# Mostrar las letras que no se están utilizando\n",
    "print(\"No estan presentes:\")\n",
    "print(letras_no_utilizadas)"
   ]
  },
  {
   "cell_type": "code",
   "execution_count": null,
   "id": "15ec4cef-6947-4921-959a-21c61eaea110",
   "metadata": {},
   "outputs": [],
   "source": []
  }
 ],
 "metadata": {
  "kernelspec": {
   "display_name": "Python 3 (ipykernel)",
   "language": "python",
   "name": "python3"
  },
  "language_info": {
   "codemirror_mode": {
    "name": "ipython",
    "version": 3
   },
   "file_extension": ".py",
   "mimetype": "text/x-python",
   "name": "python",
   "nbconvert_exporter": "python",
   "pygments_lexer": "ipython3",
   "version": "3.10.15"
  }
 },
 "nbformat": 4,
 "nbformat_minor": 5
}
